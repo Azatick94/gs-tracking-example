{
 "cells": [
  {
   "cell_type": "markdown",
   "metadata": {
    "ExecuteTime": {
     "end_time": "2021-09-13T12:04:57.560929Z",
     "start_time": "2021-09-13T12:04:57.550928Z"
    }
   },
   "source": [
    "### RESULTS"
   ]
  },
  {
   "cell_type": "code",
   "execution_count": 5,
   "metadata": {
    "ExecuteTime": {
     "end_time": "2021-09-13T12:06:00.424674Z",
     "start_time": "2021-09-13T12:06:00.075362Z"
    }
   },
   "outputs": [],
   "source": [
    "import pandas as pd\n",
    "from matplotlib import pyplot as plt\n",
    "\n"
   ]
  },
  {
   "cell_type": "code",
   "execution_count": 3,
   "metadata": {
    "ExecuteTime": {
     "end_time": "2021-09-13T12:05:31.064660Z",
     "start_time": "2021-09-13T12:05:31.051662Z"
    }
   },
   "outputs": [],
   "source": [
    "df = pd.read_csv(\"gc-results-sample-run.csv\"); "
   ]
  },
  {
   "cell_type": "code",
   "execution_count": 4,
   "metadata": {
    "ExecuteTime": {
     "end_time": "2021-09-13T12:05:35.522552Z",
     "start_time": "2021-09-13T12:05:35.499551Z"
    }
   },
   "outputs": [
    {
     "data": {
      "text/html": [
       "<div>\n",
       "<style scoped>\n",
       "    .dataframe tbody tr th:only-of-type {\n",
       "        vertical-align: middle;\n",
       "    }\n",
       "\n",
       "    .dataframe tbody tr th {\n",
       "        vertical-align: top;\n",
       "    }\n",
       "\n",
       "    .dataframe thead th {\n",
       "        text-align: right;\n",
       "    }\n",
       "</style>\n",
       "<table border=\"1\" class=\"dataframe\">\n",
       "  <thead>\n",
       "    <tr style=\"text-align: right;\">\n",
       "      <th></th>\n",
       "      <th>gcName</th>\n",
       "      <th>gcAction</th>\n",
       "      <th>gcCause</th>\n",
       "      <th>startTime</th>\n",
       "      <th>duration</th>\n",
       "    </tr>\n",
       "  </thead>\n",
       "  <tbody>\n",
       "    <tr>\n",
       "      <th>0</th>\n",
       "      <td>G1 Young Generation</td>\n",
       "      <td>end of minor GC</td>\n",
       "      <td>G1 Evacuation Pause</td>\n",
       "      <td>431</td>\n",
       "      <td>35</td>\n",
       "    </tr>\n",
       "    <tr>\n",
       "      <th>1</th>\n",
       "      <td>G1 Young Generation</td>\n",
       "      <td>end of minor GC</td>\n",
       "      <td>G1 Evacuation Pause</td>\n",
       "      <td>502</td>\n",
       "      <td>72</td>\n",
       "    </tr>\n",
       "    <tr>\n",
       "      <th>2</th>\n",
       "      <td>G1 Young Generation</td>\n",
       "      <td>end of minor GC</td>\n",
       "      <td>G1 Evacuation Pause</td>\n",
       "      <td>680</td>\n",
       "      <td>171</td>\n",
       "    </tr>\n",
       "    <tr>\n",
       "      <th>3</th>\n",
       "      <td>G1 Young Generation</td>\n",
       "      <td>end of minor GC</td>\n",
       "      <td>G1 Evacuation Pause</td>\n",
       "      <td>902</td>\n",
       "      <td>143</td>\n",
       "    </tr>\n",
       "    <tr>\n",
       "      <th>4</th>\n",
       "      <td>G1 Young Generation</td>\n",
       "      <td>end of minor GC</td>\n",
       "      <td>G1 Evacuation Pause</td>\n",
       "      <td>1091</td>\n",
       "      <td>177</td>\n",
       "    </tr>\n",
       "  </tbody>\n",
       "</table>\n",
       "</div>"
      ],
      "text/plain": [
       "                gcName         gcAction              gcCause  startTime  \\\n",
       "0  G1 Young Generation  end of minor GC  G1 Evacuation Pause        431   \n",
       "1  G1 Young Generation  end of minor GC  G1 Evacuation Pause        502   \n",
       "2  G1 Young Generation  end of minor GC  G1 Evacuation Pause        680   \n",
       "3  G1 Young Generation  end of minor GC  G1 Evacuation Pause        902   \n",
       "4  G1 Young Generation  end of minor GC  G1 Evacuation Pause       1091   \n",
       "\n",
       "   duration  \n",
       "0        35  \n",
       "1        72  \n",
       "2       171  \n",
       "3       143  \n",
       "4       177  "
      ]
     },
     "execution_count": 4,
     "metadata": {},
     "output_type": "execute_result"
    }
   ],
   "source": [
    "df.head()"
   ]
  },
  {
   "cell_type": "markdown",
   "metadata": {},
   "source": [
    "### Data View"
   ]
  },
  {
   "cell_type": "code",
   "execution_count": 14,
   "metadata": {
    "ExecuteTime": {
     "end_time": "2021-09-13T12:22:36.571605Z",
     "start_time": "2021-09-13T12:22:36.550609Z"
    }
   },
   "outputs": [
    {
     "data": {
      "text/html": [
       "<div>\n",
       "<style scoped>\n",
       "    .dataframe tbody tr th:only-of-type {\n",
       "        vertical-align: middle;\n",
       "    }\n",
       "\n",
       "    .dataframe tbody tr th {\n",
       "        vertical-align: top;\n",
       "    }\n",
       "\n",
       "    .dataframe thead th {\n",
       "        text-align: right;\n",
       "    }\n",
       "</style>\n",
       "<table border=\"1\" class=\"dataframe\">\n",
       "  <thead>\n",
       "    <tr style=\"text-align: right;\">\n",
       "      <th></th>\n",
       "      <th>gcName</th>\n",
       "      <th>gcAction</th>\n",
       "      <th>gcCause</th>\n",
       "      <th>startTime</th>\n",
       "      <th>duration</th>\n",
       "    </tr>\n",
       "  </thead>\n",
       "  <tbody>\n",
       "    <tr>\n",
       "      <th>89</th>\n",
       "      <td>G1 Old Generation</td>\n",
       "      <td>end of major GC</td>\n",
       "      <td>G1 Evacuation Pause</td>\n",
       "      <td>184936</td>\n",
       "      <td>9316</td>\n",
       "    </tr>\n",
       "    <tr>\n",
       "      <th>90</th>\n",
       "      <td>G1 Young Generation</td>\n",
       "      <td>end of minor GC</td>\n",
       "      <td>G1 Evacuation Pause</td>\n",
       "      <td>194401</td>\n",
       "      <td>449</td>\n",
       "    </tr>\n",
       "    <tr>\n",
       "      <th>91</th>\n",
       "      <td>G1 Old Generation</td>\n",
       "      <td>end of major GC</td>\n",
       "      <td>G1 Evacuation Pause</td>\n",
       "      <td>194850</td>\n",
       "      <td>16227</td>\n",
       "    </tr>\n",
       "    <tr>\n",
       "      <th>92</th>\n",
       "      <td>G1 Young Generation</td>\n",
       "      <td>end of minor GC</td>\n",
       "      <td>G1 Evacuation Pause</td>\n",
       "      <td>211128</td>\n",
       "      <td>293</td>\n",
       "    </tr>\n",
       "    <tr>\n",
       "      <th>93</th>\n",
       "      <td>G1 Old Generation</td>\n",
       "      <td>end of major GC</td>\n",
       "      <td>G1 Evacuation Pause</td>\n",
       "      <td>211421</td>\n",
       "      <td>16402</td>\n",
       "    </tr>\n",
       "  </tbody>\n",
       "</table>\n",
       "</div>"
      ],
      "text/plain": [
       "                 gcName         gcAction              gcCause  startTime  \\\n",
       "89    G1 Old Generation  end of major GC  G1 Evacuation Pause     184936   \n",
       "90  G1 Young Generation  end of minor GC  G1 Evacuation Pause     194401   \n",
       "91    G1 Old Generation  end of major GC  G1 Evacuation Pause     194850   \n",
       "92  G1 Young Generation  end of minor GC  G1 Evacuation Pause     211128   \n",
       "93    G1 Old Generation  end of major GC  G1 Evacuation Pause     211421   \n",
       "\n",
       "    duration  \n",
       "89      9316  \n",
       "90       449  \n",
       "91     16227  \n",
       "92       293  \n",
       "93     16402  "
      ]
     },
     "execution_count": 14,
     "metadata": {},
     "output_type": "execute_result"
    }
   ],
   "source": [
    "df.tail()"
   ]
  },
  {
   "cell_type": "code",
   "execution_count": 13,
   "metadata": {
    "ExecuteTime": {
     "end_time": "2021-09-13T12:22:07.196772Z",
     "start_time": "2021-09-13T12:22:07.166772Z"
    }
   },
   "outputs": [
    {
     "data": {
      "text/html": [
       "<div>\n",
       "<style scoped>\n",
       "    .dataframe tbody tr th:only-of-type {\n",
       "        vertical-align: middle;\n",
       "    }\n",
       "\n",
       "    .dataframe tbody tr th {\n",
       "        vertical-align: top;\n",
       "    }\n",
       "\n",
       "    .dataframe thead th {\n",
       "        text-align: right;\n",
       "    }\n",
       "</style>\n",
       "<table border=\"1\" class=\"dataframe\">\n",
       "  <thead>\n",
       "    <tr style=\"text-align: right;\">\n",
       "      <th></th>\n",
       "      <th>startTime</th>\n",
       "      <th>duration</th>\n",
       "    </tr>\n",
       "  </thead>\n",
       "  <tbody>\n",
       "    <tr>\n",
       "      <th>count</th>\n",
       "      <td>94.000000</td>\n",
       "      <td>94.000000</td>\n",
       "    </tr>\n",
       "    <tr>\n",
       "      <th>mean</th>\n",
       "      <td>73299.063830</td>\n",
       "      <td>1961.893617</td>\n",
       "    </tr>\n",
       "    <tr>\n",
       "      <th>std</th>\n",
       "      <td>62197.636391</td>\n",
       "      <td>3766.677668</td>\n",
       "    </tr>\n",
       "    <tr>\n",
       "      <th>min</th>\n",
       "      <td>431.000000</td>\n",
       "      <td>35.000000</td>\n",
       "    </tr>\n",
       "    <tr>\n",
       "      <th>25%</th>\n",
       "      <td>15794.250000</td>\n",
       "      <td>761.250000</td>\n",
       "    </tr>\n",
       "    <tr>\n",
       "      <th>50%</th>\n",
       "      <td>56207.000000</td>\n",
       "      <td>881.500000</td>\n",
       "    </tr>\n",
       "    <tr>\n",
       "      <th>75%</th>\n",
       "      <td>125692.250000</td>\n",
       "      <td>1042.250000</td>\n",
       "    </tr>\n",
       "    <tr>\n",
       "      <th>max</th>\n",
       "      <td>211421.000000</td>\n",
       "      <td>20342.000000</td>\n",
       "    </tr>\n",
       "  </tbody>\n",
       "</table>\n",
       "</div>"
      ],
      "text/plain": [
       "           startTime      duration\n",
       "count      94.000000     94.000000\n",
       "mean    73299.063830   1961.893617\n",
       "std     62197.636391   3766.677668\n",
       "min       431.000000     35.000000\n",
       "25%     15794.250000    761.250000\n",
       "50%     56207.000000    881.500000\n",
       "75%    125692.250000   1042.250000\n",
       "max    211421.000000  20342.000000"
      ]
     },
     "execution_count": 13,
     "metadata": {},
     "output_type": "execute_result"
    }
   ],
   "source": [
    "df.describe()"
   ]
  },
  {
   "cell_type": "markdown",
   "metadata": {
    "ExecuteTime": {
     "end_time": "2021-09-13T12:29:14.888542Z",
     "start_time": "2021-09-13T12:29:14.874542Z"
    }
   },
   "source": [
    "### Duration distribution"
   ]
  },
  {
   "cell_type": "code",
   "execution_count": 12,
   "metadata": {
    "ExecuteTime": {
     "end_time": "2021-09-13T12:07:41.891101Z",
     "start_time": "2021-09-13T12:07:41.715102Z"
    }
   },
   "outputs": [
    {
     "data": {
      "image/png": "[encoded data removed]",
      "text/plain": [
       "<Figure size 720x360 with 1 Axes>"
      ]
     },
     "metadata": {
      "needs_background": "light"
     },
     "output_type": "display_data"
    }
   ],
   "source": [
    "plt.figure(figsize=(10,5))\n",
    "plt.hist(df['duration'], bins=20)\n",
    "plt.title(\"duration histogram\")\n",
    "plt.show()"
   ]
  },
  {
   "cell_type": "code",
   "execution_count": 15,
   "metadata": {
    "ExecuteTime": {
     "end_time": "2021-09-13T12:23:05.902000Z",
     "start_time": "2021-09-13T12:23:05.887000Z"
    }
   },
   "outputs": [
    {
     "data": {
      "text/html": [
       "<div>\n",
       "<style scoped>\n",
       "    .dataframe tbody tr th:only-of-type {\n",
       "        vertical-align: middle;\n",
       "    }\n",
       "\n",
       "    .dataframe tbody tr th {\n",
       "        vertical-align: top;\n",
       "    }\n",
       "\n",
       "    .dataframe thead th {\n",
       "        text-align: right;\n",
       "    }\n",
       "</style>\n",
       "<table border=\"1\" class=\"dataframe\">\n",
       "  <thead>\n",
       "    <tr style=\"text-align: right;\">\n",
       "      <th></th>\n",
       "      <th>gcName</th>\n",
       "      <th>gcAction</th>\n",
       "      <th>gcCause</th>\n",
       "      <th>startTime</th>\n",
       "      <th>duration</th>\n",
       "    </tr>\n",
       "  </thead>\n",
       "  <tbody>\n",
       "    <tr>\n",
       "      <th>0</th>\n",
       "      <td>G1 Young Generation</td>\n",
       "      <td>end of minor GC</td>\n",
       "      <td>G1 Evacuation Pause</td>\n",
       "      <td>431</td>\n",
       "      <td>35</td>\n",
       "    </tr>\n",
       "    <tr>\n",
       "      <th>1</th>\n",
       "      <td>G1 Young Generation</td>\n",
       "      <td>end of minor GC</td>\n",
       "      <td>G1 Evacuation Pause</td>\n",
       "      <td>502</td>\n",
       "      <td>72</td>\n",
       "    </tr>\n",
       "    <tr>\n",
       "      <th>2</th>\n",
       "      <td>G1 Young Generation</td>\n",
       "      <td>end of minor GC</td>\n",
       "      <td>G1 Evacuation Pause</td>\n",
       "      <td>680</td>\n",
       "      <td>171</td>\n",
       "    </tr>\n",
       "    <tr>\n",
       "      <th>3</th>\n",
       "      <td>G1 Young Generation</td>\n",
       "      <td>end of minor GC</td>\n",
       "      <td>G1 Evacuation Pause</td>\n",
       "      <td>902</td>\n",
       "      <td>143</td>\n",
       "    </tr>\n",
       "    <tr>\n",
       "      <th>4</th>\n",
       "      <td>G1 Young Generation</td>\n",
       "      <td>end of minor GC</td>\n",
       "      <td>G1 Evacuation Pause</td>\n",
       "      <td>1091</td>\n",
       "      <td>177</td>\n",
       "    </tr>\n",
       "  </tbody>\n",
       "</table>\n",
       "</div>"
      ],
      "text/plain": [
       "                gcName         gcAction              gcCause  startTime  \\\n",
       "0  G1 Young Generation  end of minor GC  G1 Evacuation Pause        431   \n",
       "1  G1 Young Generation  end of minor GC  G1 Evacuation Pause        502   \n",
       "2  G1 Young Generation  end of minor GC  G1 Evacuation Pause        680   \n",
       "3  G1 Young Generation  end of minor GC  G1 Evacuation Pause        902   \n",
       "4  G1 Young Generation  end of minor GC  G1 Evacuation Pause       1091   \n",
       "\n",
       "   duration  \n",
       "0        35  \n",
       "1        72  \n",
       "2       171  \n",
       "3       143  \n",
       "4       177  "
      ]
     },
     "execution_count": 15,
     "metadata": {},
     "output_type": "execute_result"
    }
   ],
   "source": [
    "df.head()"
   ]
  },
  {
   "cell_type": "code",
   "execution_count": 18,
   "metadata": {
    "ExecuteTime": {
     "end_time": "2021-09-13T12:23:48.195118Z",
     "start_time": "2021-09-13T12:23:48.181118Z"
    }
   },
   "outputs": [
    {
     "data": {
      "text/plain": [
       "['G1 Young Generation', 'G1 Old Generation']"
      ]
     },
     "execution_count": 18,
     "metadata": {},
     "output_type": "execute_result"
    }
   ],
   "source": [
    "df['gcName'].unique().tolist()"
   ]
  },
  {
   "cell_type": "code",
   "execution_count": 19,
   "metadata": {
    "ExecuteTime": {
     "end_time": "2021-09-13T12:23:48.444036Z",
     "start_time": "2021-09-13T12:23:48.431037Z"
    }
   },
   "outputs": [
    {
     "data": {
      "text/plain": [
       "['end of minor GC', 'end of major GC']"
      ]
     },
     "execution_count": 19,
     "metadata": {},
     "output_type": "execute_result"
    }
   ],
   "source": [
    "df['gcAction'].unique().tolist()"
   ]
  },
  {
   "cell_type": "code",
   "execution_count": 20,
   "metadata": {
    "ExecuteTime": {
     "end_time": "2021-09-13T12:24:06.943021Z",
     "start_time": "2021-09-13T12:24:06.934031Z"
    }
   },
   "outputs": [
    {
     "data": {
      "text/plain": [
       "['G1 Evacuation Pause']"
      ]
     },
     "execution_count": 20,
     "metadata": {},
     "output_type": "execute_result"
    }
   ],
   "source": [
    "df['gcCause'].unique().tolist()"
   ]
  },
  {
   "cell_type": "markdown",
   "metadata": {
    "ExecuteTime": {
     "end_time": "2021-09-13T12:30:04.498479Z",
     "start_time": "2021-09-13T12:30:04.486447Z"
    }
   },
   "source": [
    "### G1 Young Generation Duration distribution"
   ]
  },
  {
   "cell_type": "code",
   "execution_count": 29,
   "metadata": {
    "ExecuteTime": {
     "end_time": "2021-09-13T12:26:45.044112Z",
     "start_time": "2021-09-13T12:26:44.862249Z"
    }
   },
   "outputs": [
    {
     "data": {
      "image/png": "[encoded data removed]",
      "text/plain": [
       "<Figure size 720x360 with 1 Axes>"
      ]
     },
     "metadata": {
      "needs_background": "light"
     },
     "output_type": "display_data"
    }
   ],
   "source": [
    "plt.figure(figsize=(10,5))\n",
    "plt.hist(df[df['gcName']=='G1 Young Generation']['duration']/1000, bins=20)\n",
    "plt.title(\"G1 Young Generation duration histogram, seconds\")\n",
    "plt.show()"
   ]
  },
  {
   "cell_type": "markdown",
   "metadata": {},
   "source": [
    "### G1 Old Generation Duration distribution"
   ]
  },
  {
   "cell_type": "code",
   "execution_count": 30,
   "metadata": {
    "ExecuteTime": {
     "end_time": "2021-09-13T12:26:45.248132Z",
     "start_time": "2021-09-13T12:26:45.077842Z"
    }
   },
   "outputs": [
    {
     "data": {
      "image/png": "[encoded data removed]",
      "text/plain": [
       "<Figure size 720x360 with 1 Axes>"
      ]
     },
     "metadata": {
      "needs_background": "light"
     },
     "output_type": "display_data"
    }
   ],
   "source": [
    "plt.figure(figsize=(10,5))\n",
    "plt.hist(df[df['gcName']=='G1 Old Generation']['duration']/1000, bins=20)\n",
    "plt.title(\"duration histogram, seconds\")\n",
    "plt.show()"
   ]
  },
  {
   "cell_type": "markdown",
   "metadata": {},
   "source": [
    "### GC duration change by time"
   ]
  },
  {
   "cell_type": "code",
   "execution_count": 56,
   "metadata": {
    "ExecuteTime": {
     "end_time": "2021-09-13T12:41:02.642160Z",
     "start_time": "2021-09-13T12:41:02.467622Z"
    }
   },
   "outputs": [
    {
     "data": {
      "image/png": "[encoded data removed]",
      "text/plain": [
       "<Figure size 936x360 with 1 Axes>"
      ]
     },
     "metadata": {
      "needs_background": "light"
     },
     "output_type": "display_data"
    }
   ],
   "source": [
    "plt.figure(figsize=(13,5))\n",
    "\n",
    "x1 = df[df['gcName']=='G1 Young Generation']['startTime']/1000\n",
    "y1 = df[df['gcName']=='G1 Young Generation']['duration']/1000\n",
    "\n",
    "x2 = df[df['gcName']=='G1 Old Generation']['startTime']/1000\n",
    "y2 = df[df['gcName']=='G1 Old Generation']['duration']/1000\n",
    "\n",
    "\n",
    "plt.plot(x1, y1, '-')\n",
    "plt.scatter(x1, y1, edgecolors=\"black\")\n",
    "\n",
    "plt.plot(x2, y2, '-')\n",
    "plt.scatter(x2, y2, edgecolors=\"black\")\n",
    "\n",
    "plt.title(\"GC duration change by time, seconds\")\n",
    "labels = ['Young Generation', 'Old Generation']\n",
    "plt.legend(labels)\n",
    "\n",
    "plt.ylabel(\"duration\", fontsize=15)\n",
    "plt.xlabel(\"startTime\", fontsize=15)\n",
    "\n",
    "plt.show()"
   ]
  }
 ],
 "metadata": {
  "kernelspec": {
   "display_name": "Python 3",
   "language": "python",
   "name": "python3"
  },
  "language_info": {
   "codemirror_mode": {
    "name": "ipython",
    "version": 3
   },
   "file_extension": ".py",
   "mimetype": "text/x-python",
   "name": "python",
   "nbconvert_exporter": "python",
   "pygments_lexer": "ipython3",
   "version": "3.7.0"
  },
  "toc": {
   "base_numbering": 1,
   "nav_menu": {},
   "number_sections": true,
   "sideBar": true,
   "skip_h1_title": false,
   "title_cell": "Table of Contents",
   "title_sidebar": "Contents",
   "toc_cell": false,
   "toc_position": {},
   "toc_section_display": true,
   "toc_window_display": true
  },
  "varInspector": {
   "cols": {
    "lenName": 16,
    "lenType": 16,
    "lenVar": 40
   },
   "kernels_config": {
    "python": {
     "delete_cmd_postfix": "",
     "delete_cmd_prefix": "del ",
     "library": "var_list.py",
     "varRefreshCmd": "print(var_dic_list())"
    },
    "r": {
     "delete_cmd_postfix": ") ",
     "delete_cmd_prefix": "rm(",
     "library": "var_list.r",
     "varRefreshCmd": "cat(var_dic_list()) "
    }
   },
   "types_to_exclude": [
    "module",
    "function",
    "builtin_function_or_method",
    "instance",
    "_Feature"
   ],
   "window_display": false
  }
 },
 "nbformat": 4,
 "nbformat_minor": 4
}
